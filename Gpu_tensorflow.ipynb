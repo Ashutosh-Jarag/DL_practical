{
  "nbformat": 4,
  "nbformat_minor": 0,
  "metadata": {
    "colab": {
      "provenance": [],
      "gpuType": "T4"
    },
    "kernelspec": {
      "name": "python3",
      "display_name": "Python 3"
    },
    "language_info": {
      "name": "python"
    },
    "accelerator": "GPU"
  },
  "cells": [
    {
      "cell_type": "code",
      "execution_count": 1,
      "metadata": {
        "colab": {
          "base_uri": "https://localhost:8080/"
        },
        "id": "-zirbZ7_pqI0",
        "outputId": "3dbed66f-1c46-44a3-ffb2-a8de08cc72a7"
      },
      "outputs": [
        {
          "output_type": "stream",
          "name": "stdout",
          "text": [
            "GPU is available\n",
            "tf.Tensor([ 6. 14. 24. 36. 50.], shape=(5,), dtype=float32)\n"
          ]
        }
      ],
      "source": [
        "import tensorflow as tf\n",
        "\n",
        "if tf.test.gpu_device_name():\n",
        "  print(\"GPU is available\")\n",
        "else:\n",
        "  print(\"GPU is not available\")\n",
        "\n",
        "with tf.device(\"GPU:0\"):\n",
        "  a = tf.constant([1.0,2.0,3.0,4.0,5.0])\n",
        "  b = tf.constant([6.0,7.0,8.0,9.0,10.0])\n",
        "  c = tf.multiply(a,b)\n",
        "\n",
        "  print(c)"
      ]
    },
    {
      "cell_type": "code",
      "source": [],
      "metadata": {
        "id": "fYaWqvo_r0EU"
      },
      "execution_count": null,
      "outputs": []
    }
  ]
}